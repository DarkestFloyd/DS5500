{
 "cells": [
  {
   "cell_type": "code",
   "execution_count": 1,
   "metadata": {},
   "outputs": [],
   "source": [
    "import plotly as plotly\n",
    "import plotly.plotly as py\n",
    "import plotly.graph_objs as go"
   ]
  },
  {
   "cell_type": "code",
   "execution_count": 2,
   "metadata": {},
   "outputs": [],
   "source": [
    "import json\n",
    "import requests\n",
    "from requests.auth import HTTPBasicAuth\n",
    "\n",
    "username = 'nischalm' # Replace with YOUR USERNAME\n",
    "api_key = 'CsT1npukHvDgDTDHyILX' # Replace with YOUR API KEY\n",
    "\n",
    "auth = HTTPBasicAuth(username, api_key)\n",
    "headers = {'Plotly-Client-Platform': 'python'}\n",
    "\n",
    "plotly.tools.set_credentials_file(username=username, api_key=api_key)\n",
    "\n",
    "def get_pages(username, page_size):\n",
    "    url = 'https://api.plot.ly/v2/folders/all?user='+username+'&page_size='+str(page_size)\n",
    "    response = requests.get(url, auth=auth, headers=headers)\n",
    "    if response.status_code != 200:\n",
    "        return\n",
    "    page = json.loads(response.content)\n",
    "    yield page\n",
    "    while True:\n",
    "        resource = page['children']['next'] \n",
    "        if not resource:\n",
    "            break\n",
    "        response = requests.get(resource, auth=auth, headers=headers)\n",
    "        if response.status_code != 200:\n",
    "            break\n",
    "        page = json.loads(response.content)\n",
    "        yield page\n",
    "        \n",
    "def permanently_delete_files(username, page_size=500, filetype_to_delete='plot'):\n",
    "    for page in get_pages(username, page_size):\n",
    "        for x in range(0, len(page['children']['results'])):\n",
    "            fid = page['children']['results'][x]['fid']\n",
    "            res = requests.get('https://api.plot.ly/v2/files/' + fid, auth=auth, headers=headers)\n",
    "            res.raise_for_status()\n",
    "            if res.status_code == 200:\n",
    "                json_res = json.loads(res.content)\n",
    "                if json_res['filetype'] == filetype_to_delete:\n",
    "                    # move to trash\n",
    "                    requests.post('https://api.plot.ly/v2/files/'+fid+'/trash', auth=auth, headers=headers)\n",
    "                    # permanently delete\n",
    "                    requests.delete('https://api.plot.ly/v2/files/'+fid+'/permanent_delete', auth=auth, headers=headers)\n",
    "\n",
    "#permanently_delete_files('nischalm', filetype_to_delete='plot')\n",
    "#permanently_delete_files('nischalm', filetype_to_delete='grid')"
   ]
  },
  {
   "cell_type": "code",
   "execution_count": 3,
   "metadata": {},
   "outputs": [],
   "source": [
    "import pandas as pd"
   ]
  },
  {
   "cell_type": "code",
   "execution_count": 4,
   "metadata": {},
   "outputs": [],
   "source": [
    "prices = pd.read_csv('./prices.csv')"
   ]
  },
  {
   "cell_type": "code",
   "execution_count": 5,
   "metadata": {},
   "outputs": [
    {
     "data": {
      "text/plain": [
       "Index(['date', 'symbol', 'open', 'close', 'low', 'high', 'volume'], dtype='object')"
      ]
     },
     "execution_count": 5,
     "metadata": {},
     "output_type": "execute_result"
    }
   ],
   "source": [
    "prices.columns"
   ]
  },
  {
   "cell_type": "markdown",
   "metadata": {},
   "source": [
    "|.|column|type|\n",
    "|-|-|-|\n",
    "|1|date|key|\n",
    "|2|symbol|key|\n",
    "|3|open|value|\n",
    "|4|close|value|\n",
    "|5|low|value|\n",
    "|6|high|value|\n",
    "|7|volume|value|\n",
    "\n",
    "`date` and `symbol` together make up the key for this table. We have duplicate dates and symbols, but unique combination of date and symbol. The others are all value attritubes. As one of the key is time, this dataset has time-varing semantics."
   ]
  },
  {
   "cell_type": "markdown",
   "metadata": {},
   "source": [
    "## TASK\n",
    "* task: present stock movements of tech companies over a prediod of time to client\n",
    "* action: present, browse, compare\n",
    "* target: trend (running average of stock over 30 days)\n",
    "\n",
    "Say a stock broker wants to convince clients about buying the stock of a company. As a layman, the client would not understand the various terminologies, thus presenting a chart of running average (derived variable) of companies (two in this case) would help the client see why the stock would be good to buy. Here, we want to **present** to a client, the **trend** of stock (running average). This would be a **browse** search as we know the targets, but do not know the location. This would fall under **compare** as we try to see which stock is worth buying. \n",
    "\n",
    "### Viz 1"
   ]
  },
  {
   "cell_type": "code",
   "execution_count": 6,
   "metadata": {},
   "outputs": [],
   "source": [
    "tech = prices[prices['symbol'].isin(['GOOG', 'AAPL'])]"
   ]
  },
  {
   "cell_type": "code",
   "execution_count": 7,
   "metadata": {},
   "outputs": [],
   "source": [
    "tech_rolling = tech.groupby(tech.symbol)['open'].rolling(window=30).mean()"
   ]
  },
  {
   "cell_type": "code",
   "execution_count": 8,
   "metadata": {},
   "outputs": [],
   "source": [
    "traces = []\n",
    "for sym in ['GOOG', 'AAPL']:\n",
    "    n = 'Google' if sym == 'GOOG' else 'Apple'\n",
    "    sub = tech[tech['symbol'] == sym]\n",
    "    trace1 = go.Scatter(\n",
    "        x = sub['date'],\n",
    "        y = tech_rolling[sym],\n",
    "        name = n + '(Running average)',\n",
    "        line = dict(\n",
    "            color = 'blue' if sym == 'GOOG' else 'black'\n",
    "        )\n",
    "    )\n",
    "    traces.append(trace1)\n",
    "    trace2 = go.Scatter(\n",
    "        x = sub['date'],\n",
    "        y = sub['open'],\n",
    "        opacity=0.5,\n",
    "        name = n + '(true)',\n",
    "        line = dict(\n",
    "            color = 'blue' if sym == 'GOOG' else 'black',\n",
    "            dash = 'dash'\n",
    "        )\n",
    "    )\n",
    "    traces.append(trace2)\n",
    "    \n",
    "layout = dict(\n",
    "    title = 'Stock prices (open) for Google and Apple',\n",
    "    xaxis = dict(title='Date'),\n",
    "    yaxis = dict(title='Price ($)')\n",
    ")\n",
    "\n",
    "fig = dict(data=traces, layout=layout)"
   ]
  },
  {
   "cell_type": "code",
   "execution_count": 9,
   "metadata": {},
   "outputs": [
    {
     "name": "stderr",
     "output_type": "stream",
     "text": [
      "/home/nischal/anaconda3/lib/python3.7/site-packages/IPython/core/display.py:689: UserWarning:\n",
      "\n",
      "Consider using IPython.display.IFrame instead\n",
      "\n"
     ]
    },
    {
     "data": {
      "text/html": [
       "<iframe id=\"igraph\" scrolling=\"no\" style=\"border:none;\" seamless=\"seamless\" src=\"https://plot.ly/~nischalm/176.embed\" height=\"525px\" width=\"100%\"></iframe>"
      ],
      "text/plain": [
       "<plotly.tools.PlotlyDisplay object>"
      ]
     },
     "execution_count": 9,
     "metadata": {},
     "output_type": "execute_result"
    }
   ],
   "source": [
    "py.iplot(fig)"
   ]
  },
  {
   "cell_type": "markdown",
   "metadata": {},
   "source": [
    "In this viz, the marks are lines and channels are position(both), color, and type of line. I use the position channel as it is the most effective when showing quantitative values and to compare. I use color to distinguish the companies, and type of line to show the type of value plotted.\n",
    "\n",
    "This plot shows the trend of the two companies (Google and Apple) over the years. It is easy to see that Apple prices have a lower movement as comapred to Google. Thus, we would but Google stocks for high returns (short period), and Apple stocks for a stable long term investment.\n",
    "\n",
    "Here, the interactivity needed would be zooming and filter, which are both supported bu plotly. Zooming can be used to show historical time points where the stock follows the same trend, and filter to help the client see as much information as needed."
   ]
  },
  {
   "cell_type": "markdown",
   "metadata": {},
   "source": [
    "### Viz 2"
   ]
  },
  {
   "cell_type": "code",
   "execution_count": 18,
   "metadata": {},
   "outputs": [],
   "source": [
    "tech = prices[prices['symbol'].isin(['MSFT', 'FB', 'GOOG', 'AAPL'])]"
   ]
  },
  {
   "cell_type": "code",
   "execution_count": 22,
   "metadata": {},
   "outputs": [],
   "source": [
    "traces = []\n",
    "def namer(sym):\n",
    "    if sym == 'MSFT':\n",
    "        return \"Microsoft\"\n",
    "    if sym == 'FB':\n",
    "        return 'Facebook'\n",
    "    if sym == 'GOOG':\n",
    "        return 'Google'\n",
    "    if sym == 'AAPL':\n",
    "        return \"Apple\"\n",
    "    \n",
    "for sym in ['MSFT', 'FB', 'GOOG', 'AAPL']:\n",
    "    n = namer(sym)\n",
    "    sub = tech[tech['symbol'] == sym]\n",
    "    trace1 = go.Scatter(\n",
    "        x = sub['date'],\n",
    "        y = sub['open'],\n",
    "        name = n,\n",
    "        opacity=0.6\n",
    "    )\n",
    "    traces.append(trace1)\n",
    "    \n",
    "layout = dict(\n",
    "    title = 'Stock prices (open) for Microsoft and Facebook',\n",
    "    xaxis = dict(title='Date'),\n",
    "    yaxis = dict(title='Price ($)')\n",
    ")\n",
    "\n",
    "fig = dict(data=traces, layout=layout)"
   ]
  },
  {
   "cell_type": "code",
   "execution_count": 23,
   "metadata": {},
   "outputs": [
    {
     "data": {
      "text/html": [
       "<iframe id=\"igraph\" scrolling=\"no\" style=\"border:none;\" seamless=\"seamless\" src=\"https://plot.ly/~nischalm/186.embed\" height=\"525px\" width=\"100%\"></iframe>"
      ],
      "text/plain": [
       "<plotly.tools.PlotlyDisplay object>"
      ]
     },
     "execution_count": 23,
     "metadata": {},
     "output_type": "execute_result"
    }
   ],
   "source": [
    "py.iplot(fig)"
   ]
  },
  {
   "cell_type": "markdown",
   "metadata": {},
   "source": [
    "Here, I only use lines as marks and position(both) and color as channels. As above, position is best used for comparing. \n",
    "\n",
    "It is easy to see that Facebook stocks are rather new, but have a very high movement. Whereas Miscrosoft stocks have a lower movement, but are much more stable. Similiar to the above example, FB would be good for high return in a short period, but MSFT would be better for a long term inverstment.\n",
    "\n",
    "Similar to the previous viz, zooming and filter are available."
   ]
  }
 ],
 "metadata": {
  "kernelspec": {
   "display_name": "Python 3",
   "language": "python",
   "name": "python3"
  },
  "language_info": {
   "codemirror_mode": {
    "name": "ipython",
    "version": 3
   },
   "file_extension": ".py",
   "mimetype": "text/x-python",
   "name": "python",
   "nbconvert_exporter": "python",
   "pygments_lexer": "ipython3",
   "version": "3.7.1"
  }
 },
 "nbformat": 4,
 "nbformat_minor": 2
}
