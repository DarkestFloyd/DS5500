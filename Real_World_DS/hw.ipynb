{
 "cells": [
  {
   "cell_type": "markdown",
   "metadata": {},
   "source": [
    "## Imports and read"
   ]
  },
  {
   "cell_type": "code",
   "execution_count": 211,
   "metadata": {},
   "outputs": [],
   "source": [
    "import pandas as pd\n",
    "import numpy as np\n",
    "import seaborn as sns\n",
    "import matplotlib.pyplot as plt\n",
    "import math\n",
    "import nltk\n",
    "import random\n",
    "import gensim\n",
    "from nltk.stem import WordNetLemmatizer, SnowballStemmer\n",
    "from nltk.stem.porter import *\n",
    "from nltk.stem import *\n",
    "from gensim.utils import simple_preprocess\n",
    "from gensim.parsing.preprocessing import STOPWORDS\n",
    "from gensim import corpora, models\n",
    "from sklearn import model_selection\n",
    "from sklearn.preprocessing import StandardScaler\n",
    "from sklearn.linear_model import LinearRegression, RidgeCV, Ridge\n",
    "from sklearn.model_selection import cross_val_score\n",
    "from sklearn.metrics import mean_squared_error, r2_score\n",
    "from scipy.stats import describe"
   ]
  },
  {
   "cell_type": "code",
   "execution_count": 165,
   "metadata": {},
   "outputs": [],
   "source": [
    "wine = pd.read_csv('./winemag-data-130k-v2.csv', index_col=0)"
   ]
  },
  {
   "cell_type": "code",
   "execution_count": 166,
   "metadata": {},
   "outputs": [
    {
     "data": {
      "text/html": [
       "<div>\n",
       "<style scoped>\n",
       "    .dataframe tbody tr th:only-of-type {\n",
       "        vertical-align: middle;\n",
       "    }\n",
       "\n",
       "    .dataframe tbody tr th {\n",
       "        vertical-align: top;\n",
       "    }\n",
       "\n",
       "    .dataframe thead th {\n",
       "        text-align: right;\n",
       "    }\n",
       "</style>\n",
       "<table border=\"1\" class=\"dataframe\">\n",
       "  <thead>\n",
       "    <tr style=\"text-align: right;\">\n",
       "      <th></th>\n",
       "      <th>country</th>\n",
       "      <th>description</th>\n",
       "      <th>designation</th>\n",
       "      <th>points</th>\n",
       "      <th>price</th>\n",
       "      <th>province</th>\n",
       "      <th>region_1</th>\n",
       "      <th>region_2</th>\n",
       "      <th>taster_name</th>\n",
       "      <th>taster_twitter_handle</th>\n",
       "      <th>title</th>\n",
       "      <th>variety</th>\n",
       "      <th>winery</th>\n",
       "    </tr>\n",
       "  </thead>\n",
       "  <tbody>\n",
       "    <tr>\n",
       "      <th>0</th>\n",
       "      <td>Italy</td>\n",
       "      <td>Aromas include tropical fruit, broom, brimston...</td>\n",
       "      <td>Vulkà Bianco</td>\n",
       "      <td>87</td>\n",
       "      <td>NaN</td>\n",
       "      <td>Sicily &amp; Sardinia</td>\n",
       "      <td>Etna</td>\n",
       "      <td>NaN</td>\n",
       "      <td>Kerin O’Keefe</td>\n",
       "      <td>@kerinokeefe</td>\n",
       "      <td>Nicosia 2013 Vulkà Bianco  (Etna)</td>\n",
       "      <td>White Blend</td>\n",
       "      <td>Nicosia</td>\n",
       "    </tr>\n",
       "    <tr>\n",
       "      <th>1</th>\n",
       "      <td>Portugal</td>\n",
       "      <td>This is ripe and fruity, a wine that is smooth...</td>\n",
       "      <td>Avidagos</td>\n",
       "      <td>87</td>\n",
       "      <td>15.0</td>\n",
       "      <td>Douro</td>\n",
       "      <td>NaN</td>\n",
       "      <td>NaN</td>\n",
       "      <td>Roger Voss</td>\n",
       "      <td>@vossroger</td>\n",
       "      <td>Quinta dos Avidagos 2011 Avidagos Red (Douro)</td>\n",
       "      <td>Portuguese Red</td>\n",
       "      <td>Quinta dos Avidagos</td>\n",
       "    </tr>\n",
       "    <tr>\n",
       "      <th>2</th>\n",
       "      <td>US</td>\n",
       "      <td>Tart and snappy, the flavors of lime flesh and...</td>\n",
       "      <td>NaN</td>\n",
       "      <td>87</td>\n",
       "      <td>14.0</td>\n",
       "      <td>Oregon</td>\n",
       "      <td>Willamette Valley</td>\n",
       "      <td>Willamette Valley</td>\n",
       "      <td>Paul Gregutt</td>\n",
       "      <td>@paulgwine</td>\n",
       "      <td>Rainstorm 2013 Pinot Gris (Willamette Valley)</td>\n",
       "      <td>Pinot Gris</td>\n",
       "      <td>Rainstorm</td>\n",
       "    </tr>\n",
       "    <tr>\n",
       "      <th>3</th>\n",
       "      <td>US</td>\n",
       "      <td>Pineapple rind, lemon pith and orange blossom ...</td>\n",
       "      <td>Reserve Late Harvest</td>\n",
       "      <td>87</td>\n",
       "      <td>13.0</td>\n",
       "      <td>Michigan</td>\n",
       "      <td>Lake Michigan Shore</td>\n",
       "      <td>NaN</td>\n",
       "      <td>Alexander Peartree</td>\n",
       "      <td>NaN</td>\n",
       "      <td>St. Julian 2013 Reserve Late Harvest Riesling ...</td>\n",
       "      <td>Riesling</td>\n",
       "      <td>St. Julian</td>\n",
       "    </tr>\n",
       "    <tr>\n",
       "      <th>4</th>\n",
       "      <td>US</td>\n",
       "      <td>Much like the regular bottling from 2012, this...</td>\n",
       "      <td>Vintner's Reserve Wild Child Block</td>\n",
       "      <td>87</td>\n",
       "      <td>65.0</td>\n",
       "      <td>Oregon</td>\n",
       "      <td>Willamette Valley</td>\n",
       "      <td>Willamette Valley</td>\n",
       "      <td>Paul Gregutt</td>\n",
       "      <td>@paulgwine</td>\n",
       "      <td>Sweet Cheeks 2012 Vintner's Reserve Wild Child...</td>\n",
       "      <td>Pinot Noir</td>\n",
       "      <td>Sweet Cheeks</td>\n",
       "    </tr>\n",
       "  </tbody>\n",
       "</table>\n",
       "</div>"
      ],
      "text/plain": [
       "    country                                        description  \\\n",
       "0     Italy  Aromas include tropical fruit, broom, brimston...   \n",
       "1  Portugal  This is ripe and fruity, a wine that is smooth...   \n",
       "2        US  Tart and snappy, the flavors of lime flesh and...   \n",
       "3        US  Pineapple rind, lemon pith and orange blossom ...   \n",
       "4        US  Much like the regular bottling from 2012, this...   \n",
       "\n",
       "                          designation  points  price           province  \\\n",
       "0                        Vulkà Bianco      87    NaN  Sicily & Sardinia   \n",
       "1                            Avidagos      87   15.0              Douro   \n",
       "2                                 NaN      87   14.0             Oregon   \n",
       "3                Reserve Late Harvest      87   13.0           Michigan   \n",
       "4  Vintner's Reserve Wild Child Block      87   65.0             Oregon   \n",
       "\n",
       "              region_1           region_2         taster_name  \\\n",
       "0                 Etna                NaN       Kerin O’Keefe   \n",
       "1                  NaN                NaN          Roger Voss   \n",
       "2    Willamette Valley  Willamette Valley        Paul Gregutt   \n",
       "3  Lake Michigan Shore                NaN  Alexander Peartree   \n",
       "4    Willamette Valley  Willamette Valley        Paul Gregutt   \n",
       "\n",
       "  taster_twitter_handle                                              title  \\\n",
       "0          @kerinokeefe                  Nicosia 2013 Vulkà Bianco  (Etna)   \n",
       "1            @vossroger      Quinta dos Avidagos 2011 Avidagos Red (Douro)   \n",
       "2           @paulgwine       Rainstorm 2013 Pinot Gris (Willamette Valley)   \n",
       "3                   NaN  St. Julian 2013 Reserve Late Harvest Riesling ...   \n",
       "4           @paulgwine   Sweet Cheeks 2012 Vintner's Reserve Wild Child...   \n",
       "\n",
       "          variety               winery  \n",
       "0     White Blend              Nicosia  \n",
       "1  Portuguese Red  Quinta dos Avidagos  \n",
       "2      Pinot Gris            Rainstorm  \n",
       "3        Riesling           St. Julian  \n",
       "4      Pinot Noir         Sweet Cheeks  "
      ]
     },
     "execution_count": 166,
     "metadata": {},
     "output_type": "execute_result"
    }
   ],
   "source": [
    "wine.head()"
   ]
  },
  {
   "cell_type": "markdown",
   "metadata": {},
   "source": [
    "#description and reviews are the important columns; lets remove duplicates and NA in desccription\n",
    "df_wine.drop_duplicates('description',inplace = True)\n",
    "df_wine.dropna(subset=['description', 'price', 'points'], inplace = True)"
   ]
  },
  {
   "cell_type": "markdown",
   "metadata": {},
   "source": [
    "#### Exploratory analysis\n",
    "Visualization 1"
   ]
  },
  {
   "cell_type": "code",
   "execution_count": 167,
   "metadata": {},
   "outputs": [
    {
     "data": {
      "text/plain": [
       "country                     63\n",
       "description                  0\n",
       "designation              37465\n",
       "points                       0\n",
       "price                     8996\n",
       "province                    63\n",
       "region_1                 21247\n",
       "region_2                 79460\n",
       "taster_name              26244\n",
       "taster_twitter_handle    31213\n",
       "title                        0\n",
       "variety                      1\n",
       "winery                       0\n",
       "dtype: int64"
      ]
     },
     "execution_count": 167,
     "metadata": {},
     "output_type": "execute_result"
    }
   ],
   "source": [
    "wine.isnull().sum(axis=0)"
   ]
  },
  {
   "cell_type": "markdown",
   "metadata": {},
   "source": [
    "Looking for NA values, we see a lot of NA values. Especially for region and taster attributes. We can safely drop these as they should not affect the review."
   ]
  },
  {
   "cell_type": "code",
   "execution_count": 168,
   "metadata": {},
   "outputs": [],
   "source": [
    "wine.drop(columns=['region_1', 'region_2', 'taster_name', 'province',\n",
    "                   'taster_twitter_handle', 'designation',\n",
    "                  'title', 'winery'], inplace=True)"
   ]
  },
  {
   "cell_type": "code",
   "execution_count": 169,
   "metadata": {},
   "outputs": [
    {
     "data": {
      "text/plain": [
       "Index(['country', 'description', 'points', 'price', 'variety'], dtype='object')"
      ]
     },
     "execution_count": 169,
     "metadata": {},
     "output_type": "execute_result"
    }
   ],
   "source": [
    "wine.columns"
   ]
  },
  {
   "cell_type": "markdown",
   "metadata": {},
   "source": [
    "These columns should explain the highest variance, others would cause only small increments in accuracy. Dropping all those will hurt accuracy, but not as much. Doing so reduces the number of parameters to estimate. "
   ]
  },
  {
   "cell_type": "code",
   "execution_count": 170,
   "metadata": {},
   "outputs": [
    {
     "name": "stderr",
     "output_type": "stream",
     "text": [
      "/home/nischal/anaconda3/lib/python3.7/site-packages/numpy/lib/histograms.py:754: RuntimeWarning: invalid value encountered in greater_equal\n",
      "  keep = (tmp_a >= first_edge)\n",
      "/home/nischal/anaconda3/lib/python3.7/site-packages/numpy/lib/histograms.py:755: RuntimeWarning: invalid value encountered in less_equal\n",
      "  keep &= (tmp_a <= last_edge)\n"
     ]
    },
    {
     "data": {
      "text/plain": [
       "<matplotlib.axes._subplots.AxesSubplot at 0x7f8b77d9f6a0>"
      ]
     },
     "execution_count": 170,
     "metadata": {},
     "output_type": "execute_result"
    },
    {
     "data": {
      "image/png": "[encoded data removed]",
      "text/plain": [
       "<Figure size 432x288 with 1 Axes>"
      ]
     },
     "metadata": {
      "needs_background": "light"
     },
     "output_type": "display_data"
    }
   ],
   "source": [
    "sns.distplot(wine.price, bins=20, kde=False)"
   ]
  },
  {
   "cell_type": "markdown",
   "metadata": {},
   "source": [
    "prices have very high skew, using a log transformation"
   ]
  },
  {
   "cell_type": "code",
   "execution_count": 171,
   "metadata": {},
   "outputs": [
    {
     "data": {
      "text/plain": [
       "<matplotlib.axes._subplots.AxesSubplot at 0x7f8b7b925668>"
      ]
     },
     "execution_count": 171,
     "metadata": {},
     "output_type": "execute_result"
    },
    {
     "data": {
      "image/png": "[encoded data removed]",
      "text/plain": [
       "<Figure size 720x360 with 1 Axes>"
      ]
     },
     "metadata": {
      "needs_background": "light"
     },
     "output_type": "display_data"
    }
   ],
   "source": [
    "plt.figure(figsize = (10, 5))\n",
    "sns.regplot(x = np.log10(wine.price), y = wine.points)"
   ]
  },
  {
   "cell_type": "markdown",
   "metadata": {},
   "source": [
    "A good positive relation between price and points (looks like an expensive wine scores better)"
   ]
  },
  {
   "cell_type": "code",
   "execution_count": 172,
   "metadata": {},
   "outputs": [
    {
     "data": {
      "image/png": "[encoded data removed]",
      "text/plain": [
       "<Figure size 1008x360 with 1 Axes>"
      ]
     },
     "metadata": {
      "needs_background": "light"
     },
     "output_type": "display_data"
    }
   ],
   "source": [
    "plt.figure(figsize=(14, 5))\n",
    "sns.boxplot(x=wine.country, y=wine.points)\n",
    "plt.xticks(rotation=90)\n",
    "plt.show()"
   ]
  },
  {
   "cell_type": "markdown",
   "metadata": {},
   "source": [
    "Not a very good separation, but should help the model"
   ]
  },
  {
   "cell_type": "markdown",
   "metadata": {},
   "source": [
    "## Data Preprocessing"
   ]
  },
  {
   "cell_type": "code",
   "execution_count": 203,
   "metadata": {},
   "outputs": [],
   "source": [
    "dummy = pd.get_dummies(wine.loc[:, ['country', 'variety']])\n",
    "wine_processed = wine.drop(['country', 'variety'], axis=1)\n",
    "wine_processed = pd.concat([wine_processed, dummy], axis=1)"
   ]
  },
  {
   "cell_type": "code",
   "execution_count": 204,
   "metadata": {},
   "outputs": [],
   "source": [
    "wine_processed.price.fillna(wine_processed.price.mean(), inplace=True)\n",
    "wine_processed['price'] = np.log10(wine_processed.price)\n",
    "wine_processed['price'] = StandardScaler().fit_transform(wine_processed.price.values.reshape(-1, 1))"
   ]
  },
  {
   "cell_type": "code",
   "execution_count": 227,
   "metadata": {
    "scrolled": true
   },
   "outputs": [
    {
     "name": "stderr",
     "output_type": "stream",
     "text": [
      "[nltk_data] Downloading package wordnet to /home/nischal/nltk_data...\n",
      "[nltk_data]   Package wordnet is already up-to-date!\n"
     ]
    }
   ],
   "source": [
    "## standard nltk functions for text preprocessing \n",
    "\n",
    "nltk.download('wordnet')\n",
    "def tokenize_(text):\n",
    "    tokens = []\n",
    "    for token in gensim.utils.simple_preprocess(text):\n",
    "        if token not in gensim.parsing.preprocessing.STOPWORDS and len(token)>3:\n",
    "            _tokens = WordNetLemmatizer().lemmatize(token, pos = 'v')\n",
    "            tokens.append(_tokens)\n",
    "    return tokens\n",
    "\n",
    "def tokenize(text_raw):\n",
    "    tokens = []\n",
    "    for i, line in enumerate(text_raw):\n",
    "        tokens.append(tokenize_(line))\n",
    "    return tokens\n",
    "\n",
    "def get_dict(doc):\n",
    "    return gensim.corpora.Dictionary(doc)\n",
    "\n",
    "def generate_bow(doc_list):\n",
    "    doc_dict = get_dict(doc_list)\n",
    "    doc_bow = [doc_dict.doc2bow(line) for line in doc_list]\n",
    "    return doc_bow, doc_dict\n",
    "\n",
    "def run_lda(n_topics, doc_tfidf, doc_dict, verbose=False):\n",
    "    doc_lda = gensim.models.LdaMulticore(doc_tfidf, num_topics = n_topics, id2word = doc_dict,\n",
    "                                         passes = 3, minimum_probability=0.0)\n",
    "    \n",
    "    if verbose: \n",
    "        for i, t in doc_lda.print_topics(-1):\n",
    "            print('Topic: {} Word: {} '.format(i,t))\n",
    "        \n",
    "    doc_topic_dist_tup = doc_lda.get_document_topics(doc_tfidf, minimum_probability=0.0)\n",
    "    doc_topic_prob = np.zeros(shape= (len(doc_topic_dist_tup), n_topics), dtype = \"float64\")\n",
    "    for i, top_dist in enumerate(doc_topic_dist_tup):\n",
    "        doc_topic_prob[i,:] = np.asarray(top_dist)[:,1]\n",
    "        \n",
    "    return doc_topic_prob"
   ]
  },
  {
   "cell_type": "code",
   "execution_count": 225,
   "metadata": {},
   "outputs": [],
   "source": [
    "tokenized_desc = tokenize(wine_processed.description)\n",
    "desc_bow, desc_dict = generate_bow(tokenized_desc)\n",
    "tf = models.TfidfModel(desc_bow)\n",
    "desc_tfidf = tf[desc_bow]"
   ]
  },
  {
   "cell_type": "code",
   "execution_count": 228,
   "metadata": {},
   "outputs": [],
   "source": [
    "%%time\n",
    "topic_probs = run_lda(10, desc_tfidf, desc_dict)"
   ]
  },
  {
   "cell_type": "code",
   "execution_count": 237,
   "metadata": {},
   "outputs": [],
   "source": [
    "## covert to a dataframe and concat on original\n",
    "topics = ['topic_' + str(i) for i in range(1, 11)]\n",
    "topics_df = pd.DataFrame(topic_probs, columns=topics)\n",
    "wine_processed.drop('description', axis=1, inplace=True)\n",
    "wine_processed = pd.concat([wine_processed, topics_df], axis=1)"
   ]
  },
  {
   "cell_type": "code",
   "execution_count": 240,
   "metadata": {},
   "outputs": [
    {
     "data": {
      "text/plain": [
       "(129971, 762)"
      ]
     },
     "execution_count": 240,
     "metadata": {},
     "output_type": "execute_result"
    }
   ],
   "source": [
    "wine_processed.shape"
   ]
  },
  {
   "cell_type": "code",
   "execution_count": 241,
   "metadata": {},
   "outputs": [],
   "source": [
    "# split into train and test\n",
    "train = wine_processed.sample(frac=0.8, random_state = 666)\n",
    "test = wine_processed.drop(train.index)"
   ]
  },
  {
   "cell_type": "code",
   "execution_count": 242,
   "metadata": {},
   "outputs": [
    {
     "data": {
      "text/plain": [
       "((103977, 762), (25994, 762))"
      ]
     },
     "execution_count": 242,
     "metadata": {},
     "output_type": "execute_result"
    }
   ],
   "source": [
    "train.shape, test.shape"
   ]
  },
  {
   "cell_type": "code",
   "execution_count": 248,
   "metadata": {},
   "outputs": [],
   "source": [
    "def split(data):\n",
    "    X = data.loc[:, data.columns != 'points']\n",
    "    y = data.points\n",
    "    return X, y.values.reshape(-1, 1)\n",
    "    \n",
    "train_X, train_y = split(train)\n",
    "test_X, test_y = split(test)"
   ]
  },
  {
   "cell_type": "markdown",
   "metadata": {},
   "source": [
    "## Models"
   ]
  },
  {
   "cell_type": "markdown",
   "metadata": {},
   "source": [
    "### Lasso"
   ]
  },
  {
   "cell_type": "code",
   "execution_count": 264,
   "metadata": {},
   "outputs": [],
   "source": [
    "from sklearn.linear_model import LassoCV"
   ]
  },
  {
   "cell_type": "code",
   "execution_count": 274,
   "metadata": {},
   "outputs": [],
   "source": [
    "lasso_cv = LassoCV(alphas=[0.001, 0.01, 1, 10, 100], \n",
    "                   verbose=1, copy_X=True, cv=10, n_jobs=6)"
   ]
  },
  {
   "cell_type": "code",
   "execution_count": 275,
   "metadata": {},
   "outputs": [
    {
     "name": "stderr",
     "output_type": "stream",
     "text": [
      "[Parallel(n_jobs=6)]: Using backend ThreadingBackend with 6 concurrent workers.\n",
      "..................................................[Parallel(n_jobs=6)]: Done  10 out of  10 | elapsed:   13.8s remaining:    0.0s\n",
      "[Parallel(n_jobs=6)]: Done  10 out of  10 | elapsed:   13.8s finished\n"
     ]
    },
    {
     "name": "stdout",
     "output_type": "stream",
     "text": [
      "CPU times: user 1min 17s, sys: 17.6 s, total: 1min 34s\n",
      "Wall time: 16 s\n"
     ]
    }
   ],
   "source": [
    "%%time\n",
    "cv_res = lasso_cv.fit(train_X, train_y.reshape(-1, ))"
   ]
  },
  {
   "cell_type": "code",
   "execution_count": 279,
   "metadata": {},
   "outputs": [
    {
     "data": {
      "text/plain": [
       "0.40721125031068983"
      ]
     },
     "execution_count": 279,
     "metadata": {},
     "output_type": "execute_result"
    }
   ],
   "source": [
    "cv_res.score(test_X, test_y)"
   ]
  },
  {
   "cell_type": "code",
   "execution_count": 343,
   "metadata": {},
   "outputs": [],
   "source": [
    "lasso_coef = pd.DataFrame(data={'names': train_X.columns, 'score': cv_res.coef_})\n",
    "imp_score = lasso_coef.loc[abs(lasso_coef.score) > 0.25, :]"
   ]
  },
  {
   "cell_type": "code",
   "execution_count": 344,
   "metadata": {},
   "outputs": [
    {
     "data": {
      "text/plain": [
       "751                    topic_1\n",
       "758                    topic_8\n",
       "165    variety_Champagne Blend\n",
       "369           variety_Meritage\n",
       "536               variety_Rosé\n",
       "Name: names, dtype: object"
      ]
     },
     "execution_count": 344,
     "metadata": {},
     "output_type": "execute_result"
    }
   ],
   "source": [
    "imp_score.names.iloc[imp_score.score.argsort().values[:5]]"
   ]
  },
  {
   "cell_type": "code",
   "execution_count": 345,
   "metadata": {},
   "outputs": [
    {
     "data": {
      "image/png": "[encoded data removed]",
      "text/plain": [
       "<Figure size 1080x360 with 1 Axes>"
      ]
     },
     "metadata": {
      "needs_background": "light"
     },
     "output_type": "display_data"
    }
   ],
   "source": [
    "plt.figure(figsize=(15, 5))\n",
    "sns.barplot(x=imp_score.names, y=imp_score.score, palette=\"Blues_d\")\n",
    "plt.xticks(rotation=90)\n",
    "plt.show()"
   ]
  },
  {
   "cell_type": "code",
   "execution_count": null,
   "metadata": {},
   "outputs": [],
   "source": []
  },
  {
   "cell_type": "code",
   "execution_count": 346,
   "metadata": {},
   "outputs": [],
   "source": [
    "from sklearn.svm import LinearSVR"
   ]
  },
  {
   "cell_type": "code",
   "execution_count": 347,
   "metadata": {},
   "outputs": [
    {
     "name": "stderr",
     "output_type": "stream",
     "text": [
      "/home/nischal/anaconda3/lib/python3.7/site-packages/sklearn/utils/validation.py:761: DataConversionWarning: A column-vector y was passed when a 1d array was expected. Please change the shape of y to (n_samples, ), for example using ravel().\n",
      "  y = column_or_1d(y, warn=True)\n"
     ]
    },
    {
     "data": {
      "text/plain": [
       "LinearSVR(C=1.0, dual=True, epsilon=0.0, fit_intercept=True,\n",
       "     intercept_scaling=1.0, loss='epsilon_insensitive', max_iter=1000,\n",
       "     random_state=None, tol=0.0001, verbose=0)"
      ]
     },
     "execution_count": 347,
     "metadata": {},
     "output_type": "execute_result"
    }
   ],
   "source": [
    "svr = LinearSVR()\n",
    "svr.fit(train_X, train_y)"
   ]
  },
  {
   "cell_type": "code",
   "execution_count": 349,
   "metadata": {},
   "outputs": [
    {
     "data": {
      "text/plain": [
       "0.41605638696286906"
      ]
     },
     "execution_count": 349,
     "metadata": {},
     "output_type": "execute_result"
    }
   ],
   "source": [
    "svr.score(train_X, train_y)"
   ]
  },
  {
   "cell_type": "code",
   "execution_count": null,
   "metadata": {},
   "outputs": [],
   "source": []
  },
  {
   "cell_type": "code",
   "execution_count": null,
   "metadata": {},
   "outputs": [],
   "source": []
  },
  {
   "cell_type": "code",
   "execution_count": null,
   "metadata": {},
   "outputs": [],
   "source": []
  },
  {
   "cell_type": "code",
   "execution_count": null,
   "metadata": {},
   "outputs": [],
   "source": []
  },
  {
   "cell_type": "code",
   "execution_count": null,
   "metadata": {},
   "outputs": [],
   "source": []
  },
  {
   "cell_type": "code",
   "execution_count": null,
   "metadata": {},
   "outputs": [],
   "source": []
  },
  {
   "cell_type": "code",
   "execution_count": null,
   "metadata": {},
   "outputs": [],
   "source": []
  },
  {
   "cell_type": "code",
   "execution_count": null,
   "metadata": {},
   "outputs": [],
   "source": []
  },
  {
   "cell_type": "code",
   "execution_count": null,
   "metadata": {},
   "outputs": [],
   "source": []
  },
  {
   "cell_type": "code",
   "execution_count": null,
   "metadata": {},
   "outputs": [],
   "source": []
  },
  {
   "cell_type": "code",
   "execution_count": 249,
   "metadata": {},
   "outputs": [],
   "source": [
    "#grid search CV\n",
    "from sklearn.model_selection import cross_val_score, GridSearchCV\n",
    "from sklearn.metrics import make_scorer, accuracy_score"
   ]
  },
  {
   "cell_type": "code",
   "execution_count": 259,
   "metadata": {},
   "outputs": [],
   "source": [
    "def call_gridsearch(clf, X, y, param_grid, scoring, filename):\n",
    "    gs = GridSearchCV(clf, cv = 10, param_grid=param_grid, scoring=scoring, \n",
    "                      verbose = 5, refit = 'r2', n_jobs = 6)\n",
    "    gs.fit(X, y)\n",
    "    cv_results = pd.DataFrame(gs.cv_results_)\n",
    "    cv_results.to_pickle(filename)\n",
    "    return cv_results"
   ]
  },
  {
   "cell_type": "code",
   "execution_count": 260,
   "metadata": {},
   "outputs": [
    {
     "name": "stdout",
     "output_type": "stream",
     "text": [
      "Fitting 10 folds for each of 4 candidates, totalling 40 fits\n"
     ]
    },
    {
     "name": "stderr",
     "output_type": "stream",
     "text": [
      "[Parallel(n_jobs=6)]: Using backend LokyBackend with 6 concurrent workers.\n",
      "[Parallel(n_jobs=6)]: Done   6 tasks      | elapsed:    6.1s\n",
      "[Parallel(n_jobs=6)]: Done  38 out of  40 | elapsed:   33.1s remaining:    1.7s\n",
      "[Parallel(n_jobs=6)]: Done  40 out of  40 | elapsed:   34.4s finished\n",
      "/home/nischal/anaconda3/lib/python3.7/site-packages/sklearn/utils/deprecation.py:125: FutureWarning: You are accessing a training score ('split0_train_mse'), which will not be available by default any more in 0.21. If you need training scores, please set return_train_score=True\n",
      "  warnings.warn(*warn_args, **warn_kwargs)\n",
      "/home/nischal/anaconda3/lib/python3.7/site-packages/sklearn/utils/deprecation.py:125: FutureWarning: You are accessing a training score ('split1_train_mse'), which will not be available by default any more in 0.21. If you need training scores, please set return_train_score=True\n",
      "  warnings.warn(*warn_args, **warn_kwargs)\n",
      "/home/nischal/anaconda3/lib/python3.7/site-packages/sklearn/utils/deprecation.py:125: FutureWarning: You are accessing a training score ('split2_train_mse'), which will not be available by default any more in 0.21. If you need training scores, please set return_train_score=True\n",
      "  warnings.warn(*warn_args, **warn_kwargs)\n",
      "/home/nischal/anaconda3/lib/python3.7/site-packages/sklearn/utils/deprecation.py:125: FutureWarning: You are accessing a training score ('split3_train_mse'), which will not be available by default any more in 0.21. If you need training scores, please set return_train_score=True\n",
      "  warnings.warn(*warn_args, **warn_kwargs)\n",
      "/home/nischal/anaconda3/lib/python3.7/site-packages/sklearn/utils/deprecation.py:125: FutureWarning: You are accessing a training score ('split4_train_mse'), which will not be available by default any more in 0.21. If you need training scores, please set return_train_score=True\n",
      "  warnings.warn(*warn_args, **warn_kwargs)\n",
      "/home/nischal/anaconda3/lib/python3.7/site-packages/sklearn/utils/deprecation.py:125: FutureWarning: You are accessing a training score ('split5_train_mse'), which will not be available by default any more in 0.21. If you need training scores, please set return_train_score=True\n",
      "  warnings.warn(*warn_args, **warn_kwargs)\n",
      "/home/nischal/anaconda3/lib/python3.7/site-packages/sklearn/utils/deprecation.py:125: FutureWarning: You are accessing a training score ('split6_train_mse'), which will not be available by default any more in 0.21. If you need training scores, please set return_train_score=True\n",
      "  warnings.warn(*warn_args, **warn_kwargs)\n",
      "/home/nischal/anaconda3/lib/python3.7/site-packages/sklearn/utils/deprecation.py:125: FutureWarning: You are accessing a training score ('split7_train_mse'), which will not be available by default any more in 0.21. If you need training scores, please set return_train_score=True\n",
      "  warnings.warn(*warn_args, **warn_kwargs)\n",
      "/home/nischal/anaconda3/lib/python3.7/site-packages/sklearn/utils/deprecation.py:125: FutureWarning: You are accessing a training score ('split8_train_mse'), which will not be available by default any more in 0.21. If you need training scores, please set return_train_score=True\n",
      "  warnings.warn(*warn_args, **warn_kwargs)\n",
      "/home/nischal/anaconda3/lib/python3.7/site-packages/sklearn/utils/deprecation.py:125: FutureWarning: You are accessing a training score ('split9_train_mse'), which will not be available by default any more in 0.21. If you need training scores, please set return_train_score=True\n",
      "  warnings.warn(*warn_args, **warn_kwargs)\n",
      "/home/nischal/anaconda3/lib/python3.7/site-packages/sklearn/utils/deprecation.py:125: FutureWarning: You are accessing a training score ('mean_train_mse'), which will not be available by default any more in 0.21. If you need training scores, please set return_train_score=True\n",
      "  warnings.warn(*warn_args, **warn_kwargs)\n",
      "/home/nischal/anaconda3/lib/python3.7/site-packages/sklearn/utils/deprecation.py:125: FutureWarning: You are accessing a training score ('std_train_mse'), which will not be available by default any more in 0.21. If you need training scores, please set return_train_score=True\n",
      "  warnings.warn(*warn_args, **warn_kwargs)\n"
     ]
    }
   ],
   "source": [
    "clf_ridge = Ridge()\n",
    "params = {'alpha' : [0.1, 0.01, 0.001, 1]}\n",
    "scoring = {'r2' : make_scorer(r2_score)}\n",
    "cv_ridge = call_gridsearch(clf_ridge, train_X, train_y, params, scoring, 'ridge')"
   ]
  },
  {
   "cell_type": "code",
   "execution_count": 257,
   "metadata": {},
   "outputs": [
    {
     "data": {
      "text/plain": [
       "0    5.343604\n",
       "1    5.343486\n",
       "2    5.343464\n",
       "3    5.347264\n",
       "Name: mean_train_mse, dtype: float64"
      ]
     },
     "execution_count": 257,
     "metadata": {},
     "output_type": "execute_result"
    }
   ],
   "source": [
    "cv_ridge."
   ]
  },
  {
   "cell_type": "code",
   "execution_count": 263,
   "metadata": {},
   "outputs": [],
   "source": [
    "from sklearn.linear_model import RidgeCV"
   ]
  },
  {
   "cell_type": "code",
   "execution_count": null,
   "metadata": {},
   "outputs": [],
   "source": []
  },
  {
   "cell_type": "code",
   "execution_count": 163,
   "metadata": {},
   "outputs": [],
   "source": [
    "from sklearn.ensemble import RandomForestRegressor"
   ]
  },
  {
   "cell_type": "code",
   "execution_count": 181,
   "metadata": {},
   "outputs": [],
   "source": [
    "clf_rf = RandomForestRegressor(random_state=100)"
   ]
  },
  {
   "cell_type": "code",
   "execution_count": 177,
   "metadata": {},
   "outputs": [
    {
     "data": {
      "text/plain": [
       "RandomForestRegressor(bootstrap=True, criterion='mse', max_depth=None,\n",
       "           max_features='auto', max_leaf_nodes=None,\n",
       "           min_impurity_decrease=0.0, min_impurity_split=None,\n",
       "           min_samples_leaf=1, min_samples_split=2,\n",
       "           min_weight_fraction_leaf=0.0, n_estimators=100, n_jobs=1,\n",
       "           oob_score=False, random_state=100, verbose=0, warm_start=False)"
      ]
     },
     "execution_count": 177,
     "metadata": {},
     "output_type": "execute_result"
    }
   ],
   "source": [
    "clf_rf.fit(X,y)"
   ]
  },
  {
   "cell_type": "code",
   "execution_count": 178,
   "metadata": {},
   "outputs": [],
   "source": [
    "pred = clf_rf.predict(test.iloc[:, test.columns!='points'])"
   ]
  },
  {
   "cell_type": "code",
   "execution_count": 179,
   "metadata": {},
   "outputs": [
    {
     "data": {
      "text/plain": [
       "3.788441124008425"
      ]
     },
     "execution_count": 179,
     "metadata": {},
     "output_type": "execute_result"
    }
   ],
   "source": [
    "mean_squared_error(pred, test.points)"
   ]
  },
  {
   "cell_type": "code",
   "execution_count": 180,
   "metadata": {},
   "outputs": [
    {
     "data": {
      "text/plain": [
       "0.36211334790220495"
      ]
     },
     "execution_count": 180,
     "metadata": {},
     "output_type": "execute_result"
    }
   ],
   "source": [
    "r2_score(pred, test.points)"
   ]
  },
  {
   "cell_type": "code",
   "execution_count": null,
   "metadata": {},
   "outputs": [
    {
     "name": "stdout",
     "output_type": "stream",
     "text": [
      "Fitting 10 folds for each of 12 candidates, totalling 120 fits\n",
      "[CV] max_features=sqrt, n_estimators=10 ..............................\n",
      "[CV] max_features=sqrt, n_estimators=10 ..............................\n",
      "[CV] max_features=sqrt, n_estimators=10 ..............................\n",
      "[CV] max_features=sqrt, n_estimators=10 ..............................\n",
      "[CV]  max_features=sqrt, n_estimators=10, mse=4.411275923021386, r2=0.5444042228791559, total=  25.6s\n",
      "[CV] max_features=sqrt, n_estimators=10 ..............................\n",
      "[CV]  max_features=sqrt, n_estimators=10, mse=4.379129509298677, r2=0.5367246156824157, total=  26.0s\n",
      "[CV] max_features=sqrt, n_estimators=10 ..............................\n",
      "[CV]  max_features=sqrt, n_estimators=10, mse=4.46477199620048, r2=0.5283281427725877, total=  26.2s\n",
      "[CV] max_features=sqrt, n_estimators=10 ..............................\n",
      "[CV]  max_features=sqrt, n_estimators=10, mse=4.346326856623597, r2=0.5491079292016514, total=  26.2s\n",
      "[CV] max_features=sqrt, n_estimators=10 ..............................\n",
      "[CV]  max_features=sqrt, n_estimators=10, mse=4.34912094615624, r2=0.5480863346851856, total=  29.2s\n",
      "[CV] max_features=sqrt, n_estimators=10 ..............................\n",
      "[CV]  max_features=sqrt, n_estimators=10, mse=4.379896327419857, r2=0.5459598173387368, total=  29.1s\n",
      "[CV] max_features=sqrt, n_estimators=10 ..............................\n",
      "[CV]  max_features=sqrt, n_estimators=10, mse=4.457190050186741, r2=0.5406392818571572, total=  29.6s\n",
      "[CV] max_features=sqrt, n_estimators=20 ..............................\n",
      "[CV]  max_features=sqrt, n_estimators=10, mse=4.536876937441644, r2=0.5415587820755594, total=  29.9s\n",
      "[CV] max_features=sqrt, n_estimators=20 ..............................\n",
      "[CV]  max_features=sqrt, n_estimators=10, mse=4.363620367258013, r2=0.5406367317925584, total=  31.8s\n",
      "[CV] max_features=sqrt, n_estimators=20 ..............................\n",
      "[CV]  max_features=sqrt, n_estimators=10, mse=4.337453333955804, r2=0.5524023451687047, total=  31.9s\n",
      "[CV] max_features=sqrt, n_estimators=20 ..............................\n"
     ]
    },
    {
     "name": "stderr",
     "output_type": "stream",
     "text": [
      "[Parallel(n_jobs=-1)]: Done  10 tasks      | elapsed:  1.8min\n"
     ]
    },
    {
     "name": "stdout",
     "output_type": "stream",
     "text": [
      "[CV]  max_features=sqrt, n_estimators=20, mse=4.146250210498669, r2=0.5717760303926365, total= 1.1min\n",
      "[CV] max_features=sqrt, n_estimators=20 ..............................\n",
      "[CV]  max_features=sqrt, n_estimators=20, mse=4.126202726982199, r2=0.5640956122308742, total= 1.1min\n",
      "[CV] max_features=sqrt, n_estimators=20 ..............................\n",
      "[CV]  max_features=sqrt, n_estimators=20, mse=4.130515339706724, r2=0.5630259216200322, total= 1.1min\n",
      "[CV] max_features=sqrt, n_estimators=20 ..............................\n",
      "[CV]  max_features=sqrt, n_estimators=20, mse=4.133901944382203, r2=0.571145091092436, total= 1.1min\n",
      "[CV] max_features=sqrt, n_estimators=20 ..............................\n",
      "[CV]  max_features=sqrt, n_estimators=20, mse=4.151461551945222, r2=0.5686249636236961, total= 1.0min\n",
      "[CV] max_features=sqrt, n_estimators=20 ..............................\n",
      "[CV]  max_features=sqrt, n_estimators=20, mse=4.191353447499458, r2=0.5680365638541336, total= 1.1min\n",
      "[CV] max_features=sqrt, n_estimators=20 ..............................\n",
      "[CV]  max_features=sqrt, n_estimators=20, mse=4.242600571906677, r2=0.5712947474284797, total=  59.9s\n",
      "[CV] max_features=sqrt, n_estimators=30 ..............................\n",
      "[CV]  max_features=sqrt, n_estimators=20, mse=4.159546026982221, r2=0.5688023421797541, total= 1.1min\n",
      "[CV] max_features=sqrt, n_estimators=30 ..............................\n",
      "[CV]  max_features=sqrt, n_estimators=20, mse=4.179483101151572, r2=0.5600210707676261, total=  59.4s\n",
      "[CV] max_features=sqrt, n_estimators=30 ..............................\n",
      "[CV]  max_features=sqrt, n_estimators=20, mse=4.064990622529567, r2=0.5805187677037078, total= 1.0min\n",
      "[CV] max_features=sqrt, n_estimators=30 ..............................\n",
      "[CV]  max_features=sqrt, n_estimators=30, mse=4.071907777244093, r2=0.5794541034133953, total= 1.4min\n",
      "[CV] max_features=sqrt, n_estimators=30 ..............................\n",
      "[CV]  max_features=sqrt, n_estimators=30, mse=4.072669102260605, r2=0.5697510643386277, total= 1.5min\n",
      "[CV] max_features=sqrt, n_estimators=30 ..............................\n",
      "[CV]  max_features=sqrt, n_estimators=30, mse=4.04472715464031, r2=0.5721015962083629, total= 1.3min\n",
      "[CV] max_features=sqrt, n_estimators=30 ..............................\n",
      "[CV]  max_features=sqrt, n_estimators=30, mse=4.051744757751573, r2=0.5796681555633922, total= 1.3min\n",
      "[CV] max_features=sqrt, n_estimators=30 ..............................\n",
      "[CV]  max_features=sqrt, n_estimators=30, mse=4.073936434678563, r2=0.5766805363087695, total= 1.2min\n",
      "[CV] max_features=sqrt, n_estimators=30 ..............................\n",
      "[CV]  max_features=sqrt, n_estimators=30, mse=4.1250316312400255, r2=0.5748717305852884, total= 1.2min\n",
      "[CV] max_features=sqrt, n_estimators=30 ..............................\n",
      "[CV]  max_features=sqrt, n_estimators=30, mse=4.150360083948401, r2=0.5806154414267133, total= 1.5min\n",
      "[CV] max_features=sqrt, n_estimators=50 ..............................\n",
      "[CV]  max_features=sqrt, n_estimators=30, mse=4.088275736326276, r2=0.5761905480569487, total= 1.5min\n",
      "[CV] max_features=sqrt, n_estimators=50 ..............................\n",
      "[CV]  max_features=sqrt, n_estimators=30, mse=4.08707841325172, r2=0.5697486171302437, total= 1.5min\n",
      "[CV] max_features=sqrt, n_estimators=50 ..............................\n",
      "[CV]  max_features=sqrt, n_estimators=30, mse=3.981440190225473, r2=0.5891406420341336, total= 1.5min\n",
      "[CV] max_features=sqrt, n_estimators=50 ..............................\n",
      "[CV]  max_features=sqrt, n_estimators=50, mse=4.0035683283001156, r2=0.5770510766164174, total= 2.3min\n",
      "[CV] max_features=sqrt, n_estimators=50 ..............................\n",
      "[CV]  max_features=sqrt, n_estimators=50, mse=3.9849859919915867, r2=0.5884313696265963, total= 2.4min\n",
      "[CV] max_features=sqrt, n_estimators=50 ..............................\n",
      "[CV]  max_features=sqrt, n_estimators=50, mse=3.9792973678494645, r2=0.5790235220287758, total= 2.7min\n",
      "[CV] max_features=sqrt, n_estimators=50 ..............................\n",
      "[CV]  max_features=sqrt, n_estimators=50, mse=4.0132948973385005, r2=0.5836569805541169, total= 2.7min\n",
      "[CV] max_features=sqrt, n_estimators=50 ..............................\n",
      "[CV]  max_features=sqrt, n_estimators=50, mse=4.007699053116713, r2=0.5835632094404346, total= 2.4min\n",
      "[CV] max_features=sqrt, n_estimators=50 ..............................\n",
      "[CV]  max_features=sqrt, n_estimators=50, mse=4.053034268087844, r2=0.5822918226319787, total= 2.4min\n",
      "[CV] max_features=sqrt, n_estimators=50 ..............................\n",
      "[CV]  max_features=sqrt, n_estimators=50, mse=4.019568254357122, r2=0.5833130814073778, total= 1.9min\n",
      "[CV] max_features=sqrt, n_estimators=100 .............................\n",
      "[CV]  max_features=sqrt, n_estimators=50, mse=4.125084677500549, r2=0.5831694644419425, total= 1.9min\n",
      "[CV] max_features=sqrt, n_estimators=100 .............................\n",
      "[CV]  max_features=sqrt, n_estimators=50, mse=4.020592578051665, r2=0.5767476564545995, total= 1.9min\n",
      "[CV] max_features=sqrt, n_estimators=100 .............................\n",
      "[CV]  max_features=sqrt, n_estimators=50, mse=3.9536798974662757, r2=0.5920053280560383, total= 1.9min\n",
      "[CV] max_features=sqrt, n_estimators=100 .............................\n"
     ]
    }
   ],
   "source": [
    "param_rf = {'n_estimators': [10, 20, 30, 50, 100, 200],\n",
    "           'max_features': ['sqrt', 'log2']}\n",
    "cv_rf = call_gridsearch(clf_rf, param_rf, scoring, 'rf')"
   ]
  },
  {
   "cell_type": "code",
   "execution_count": 183,
   "metadata": {},
   "outputs": [
    {
     "ename": "NameError",
     "evalue": "name 'cv_rf' is not defined",
     "output_type": "error",
     "traceback": [
      "\u001b[0;31m---------------------------------------------------------------------------\u001b[0m",
      "\u001b[0;31mNameError\u001b[0m                                 Traceback (most recent call last)",
      "\u001b[0;32m<ipython-input-183-673331b90d4d>\u001b[0m in \u001b[0;36m<module>\u001b[0;34m\u001b[0m\n\u001b[0;32m----> 1\u001b[0;31m \u001b[0mcv_rf\u001b[0m\u001b[0;34m\u001b[0m\u001b[0m\n\u001b[0m",
      "\u001b[0;31mNameError\u001b[0m: name 'cv_rf' is not defined"
     ]
    }
   ],
   "source": []
  }
 ],
 "metadata": {
  "kernelspec": {
   "display_name": "Python 3",
   "language": "python",
   "name": "python3"
  },
  "language_info": {
   "codemirror_mode": {
    "name": "ipython",
    "version": 3
   },
   "file_extension": ".py",
   "mimetype": "text/x-python",
   "name": "python",
   "nbconvert_exporter": "python",
   "pygments_lexer": "ipython3",
   "version": "3.7.1"
  }
 },
 "nbformat": 4,
 "nbformat_minor": 2
}
